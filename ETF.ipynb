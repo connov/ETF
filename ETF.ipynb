{
  "nbformat": 4,
  "nbformat_minor": 0,
  "metadata": {
    "colab": {
      "provenance": [],
      "authorship_tag": "ABX9TyOmqegYmPWrRph/ZQiuqkwX",
      "include_colab_link": true
    },
    "kernelspec": {
      "name": "python3",
      "display_name": "Python 3"
    },
    "language_info": {
      "name": "python"
    }
  },
  "cells": [
    {
      "cell_type": "markdown",
      "metadata": {
        "id": "view-in-github",
        "colab_type": "text"
      },
      "source": [
        "<a href=\"https://colab.research.google.com/github/connov/ETF/blob/main/ETF.ipynb\" target=\"_parent\"><img src=\"https://colab.research.google.com/assets/colab-badge.svg\" alt=\"Open In Colab\"/></a>"
      ]
    },
    {
      "cell_type": "code",
      "source": [
        "import pygsheets\n",
        "import pandas as pd\n",
        "#authorization\n",
        "gc = pygsheets.authorize(service_file='effective-relic-470816-b8-59255b56b0a8.json')\n",
        "\n",
        "# Create empty dataframe\n",
        "df = pd.DataFrame()\n",
        "\n",
        "# Create a column\n",
        "df['name'] = ['tao1', 'tao2', 'tao3', \"tao4\"]\n",
        "df['age'] = [11, 12, 13, 14]\n",
        "\n",
        "#open the google spreadsheet\n",
        "sh = gc.open('ETF')\n",
        "\n",
        "#select the first worksheet\n",
        "wks = sh[0]\n",
        "\n",
        "#update the first worksheet with df, starting at cell A1 i.e.(0,0)\n",
        "wks.set_dataframe(df,(0,0))\n",
        "\n",
        "wks.update_row(4, ['tao3', 19])\n"
      ],
      "metadata": {
        "id": "fky55S8LKMSE"
      },
      "execution_count": 12,
      "outputs": []
    }
  ]
}